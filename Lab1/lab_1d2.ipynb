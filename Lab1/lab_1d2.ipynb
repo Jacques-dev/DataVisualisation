{
 "cells": [
  {
   "cell_type": "code",
   "execution_count": 47,
   "source": [
    "# Jacques TELLIER 20200858 #"
   ],
   "outputs": [],
   "metadata": {}
  },
  {
   "cell_type": "code",
   "execution_count": 48,
   "source": [
    "#--------------------------------------- DATA SET 2 -------------------------------------------------#"
   ],
   "outputs": [],
   "metadata": {}
  },
  {
   "cell_type": "code",
   "execution_count": 49,
   "source": [
    "import pandas as pd\r\n",
    "import numpy as np\r\n",
    "import matplotlib.pyplot as plt\r\n",
    "import seaborn as sb"
   ],
   "outputs": [],
   "metadata": {}
  },
  {
   "cell_type": "code",
   "execution_count": 50,
   "source": [
    "df = pd.read_csv(\"ny-trips-data.csv\")\r\n",
    "df.describe()"
   ],
   "outputs": [
    {
     "output_type": "execute_result",
     "data": {
      "text/html": [
       "<div>\n",
       "<style scoped>\n",
       "    .dataframe tbody tr th:only-of-type {\n",
       "        vertical-align: middle;\n",
       "    }\n",
       "\n",
       "    .dataframe tbody tr th {\n",
       "        vertical-align: top;\n",
       "    }\n",
       "\n",
       "    .dataframe thead th {\n",
       "        text-align: right;\n",
       "    }\n",
       "</style>\n",
       "<table border=\"1\" class=\"dataframe\">\n",
       "  <thead>\n",
       "    <tr style=\"text-align: right;\">\n",
       "      <th></th>\n",
       "      <th>VendorID</th>\n",
       "      <th>passenger_count</th>\n",
       "      <th>trip_distance</th>\n",
       "      <th>pickup_longitude</th>\n",
       "      <th>pickup_latitude</th>\n",
       "      <th>dropoff_longitude</th>\n",
       "      <th>dropoff_latitude</th>\n",
       "      <th>fare_amount</th>\n",
       "      <th>tip_amount</th>\n",
       "      <th>total_amount</th>\n",
       "    </tr>\n",
       "  </thead>\n",
       "  <tbody>\n",
       "    <tr>\n",
       "      <th>count</th>\n",
       "      <td>97986.000000</td>\n",
       "      <td>97986.000000</td>\n",
       "      <td>97986.000000</td>\n",
       "      <td>97986.000000</td>\n",
       "      <td>97986.000000</td>\n",
       "      <td>97986.000000</td>\n",
       "      <td>97986.000000</td>\n",
       "      <td>97986.000000</td>\n",
       "      <td>97986.000000</td>\n",
       "      <td>97986.000000</td>\n",
       "    </tr>\n",
       "    <tr>\n",
       "      <th>mean</th>\n",
       "      <td>1.550660</td>\n",
       "      <td>1.669647</td>\n",
       "      <td>2.843857</td>\n",
       "      <td>-73.974872</td>\n",
       "      <td>40.751572</td>\n",
       "      <td>-73.973723</td>\n",
       "      <td>40.751932</td>\n",
       "      <td>12.325505</td>\n",
       "      <td>1.703544</td>\n",
       "      <td>15.488345</td>\n",
       "    </tr>\n",
       "    <tr>\n",
       "      <th>std</th>\n",
       "      <td>0.497429</td>\n",
       "      <td>1.360358</td>\n",
       "      <td>3.459561</td>\n",
       "      <td>0.041365</td>\n",
       "      <td>0.026359</td>\n",
       "      <td>0.034975</td>\n",
       "      <td>0.031086</td>\n",
       "      <td>10.258447</td>\n",
       "      <td>2.340548</td>\n",
       "      <td>12.629102</td>\n",
       "    </tr>\n",
       "    <tr>\n",
       "      <th>min</th>\n",
       "      <td>1.000000</td>\n",
       "      <td>0.000000</td>\n",
       "      <td>0.000000</td>\n",
       "      <td>-80.592438</td>\n",
       "      <td>40.518974</td>\n",
       "      <td>-74.641792</td>\n",
       "      <td>40.268238</td>\n",
       "      <td>-52.000000</td>\n",
       "      <td>-0.750000</td>\n",
       "      <td>-52.800000</td>\n",
       "    </tr>\n",
       "    <tr>\n",
       "      <th>25%</th>\n",
       "      <td>1.000000</td>\n",
       "      <td>1.000000</td>\n",
       "      <td>1.000000</td>\n",
       "      <td>-73.991692</td>\n",
       "      <td>40.738659</td>\n",
       "      <td>-73.991051</td>\n",
       "      <td>40.737080</td>\n",
       "      <td>6.500000</td>\n",
       "      <td>0.000000</td>\n",
       "      <td>8.300000</td>\n",
       "    </tr>\n",
       "    <tr>\n",
       "      <th>50%</th>\n",
       "      <td>2.000000</td>\n",
       "      <td>1.000000</td>\n",
       "      <td>1.670000</td>\n",
       "      <td>-73.981590</td>\n",
       "      <td>40.754742</td>\n",
       "      <td>-73.979515</td>\n",
       "      <td>40.754803</td>\n",
       "      <td>9.000000</td>\n",
       "      <td>1.200000</td>\n",
       "      <td>11.600000</td>\n",
       "    </tr>\n",
       "    <tr>\n",
       "      <th>75%</th>\n",
       "      <td>2.000000</td>\n",
       "      <td>2.000000</td>\n",
       "      <td>3.070000</td>\n",
       "      <td>-73.968132</td>\n",
       "      <td>40.767719</td>\n",
       "      <td>-73.963791</td>\n",
       "      <td>40.769366</td>\n",
       "      <td>14.000000</td>\n",
       "      <td>2.250000</td>\n",
       "      <td>17.150000</td>\n",
       "    </tr>\n",
       "    <tr>\n",
       "      <th>max</th>\n",
       "      <td>2.000000</td>\n",
       "      <td>6.000000</td>\n",
       "      <td>99.900000</td>\n",
       "      <td>-72.241508</td>\n",
       "      <td>41.035873</td>\n",
       "      <td>-72.241508</td>\n",
       "      <td>41.075256</td>\n",
       "      <td>495.000000</td>\n",
       "      <td>88.200000</td>\n",
       "      <td>495.300000</td>\n",
       "    </tr>\n",
       "  </tbody>\n",
       "</table>\n",
       "</div>"
      ],
      "text/plain": [
       "           VendorID  passenger_count  trip_distance  pickup_longitude  \\\n",
       "count  97986.000000     97986.000000   97986.000000      97986.000000   \n",
       "mean       1.550660         1.669647       2.843857        -73.974872   \n",
       "std        0.497429         1.360358       3.459561          0.041365   \n",
       "min        1.000000         0.000000       0.000000        -80.592438   \n",
       "25%        1.000000         1.000000       1.000000        -73.991692   \n",
       "50%        2.000000         1.000000       1.670000        -73.981590   \n",
       "75%        2.000000         2.000000       3.070000        -73.968132   \n",
       "max        2.000000         6.000000      99.900000        -72.241508   \n",
       "\n",
       "       pickup_latitude  dropoff_longitude  dropoff_latitude   fare_amount  \\\n",
       "count     97986.000000       97986.000000      97986.000000  97986.000000   \n",
       "mean         40.751572         -73.973723         40.751932     12.325505   \n",
       "std           0.026359           0.034975          0.031086     10.258447   \n",
       "min          40.518974         -74.641792         40.268238    -52.000000   \n",
       "25%          40.738659         -73.991051         40.737080      6.500000   \n",
       "50%          40.754742         -73.979515         40.754803      9.000000   \n",
       "75%          40.767719         -73.963791         40.769366     14.000000   \n",
       "max          41.035873         -72.241508         41.075256    495.000000   \n",
       "\n",
       "         tip_amount  total_amount  \n",
       "count  97986.000000  97986.000000  \n",
       "mean       1.703544     15.488345  \n",
       "std        2.340548     12.629102  \n",
       "min       -0.750000    -52.800000  \n",
       "25%        0.000000      8.300000  \n",
       "50%        1.200000     11.600000  \n",
       "75%        2.250000     17.150000  \n",
       "max       88.200000    495.300000  "
      ]
     },
     "metadata": {},
     "execution_count": 50
    }
   ],
   "metadata": {}
  },
  {
   "cell_type": "code",
   "execution_count": 51,
   "source": [
    "df[\"tpep_pickup_datetime\"] = pd.to_datetime(df[\"tpep_pickup_datetime\"])\r\n",
    "df[\"tpep_dropoff_datetime\"] = pd.to_datetime(df[\"tpep_dropoff_datetime\"])"
   ],
   "outputs": [],
   "metadata": {}
  },
  {
   "cell_type": "code",
   "execution_count": 52,
   "source": [
    "\r\n",
    "#mot -> minutes of trip\r\n",
    "def get_mot(dt1, dt2):\r\n",
    "    return round(((dt2 - dt1).total_seconds())/60)\r\n",
    "\r\n",
    "df[\"mot\"] = df.apply(lambda x: get_mot(x.tpep_pickup_datetime, x.tpep_dropoff_datetime), axis=1)\r\n",
    "print(df)"
   ],
   "outputs": [
    {
     "output_type": "stream",
     "name": "stdout",
     "text": [
      "       VendorID      tpep_pickup_datetime     tpep_dropoff_datetime  \\\n",
      "0             2 2015-01-15 19:05:39+00:00 2015-01-15 19:23:42+00:00   \n",
      "1             2 2015-01-15 19:05:39+00:00 2015-01-15 19:32:00+00:00   \n",
      "2             2 2015-01-15 19:05:40+00:00 2015-01-15 19:21:00+00:00   \n",
      "3             2 2015-01-15 19:05:40+00:00 2015-01-15 19:28:18+00:00   \n",
      "4             2 2015-01-15 19:05:41+00:00 2015-01-15 19:20:36+00:00   \n",
      "...         ...                       ...                       ...   \n",
      "97981         1 2015-01-15 06:04:36+00:00 2015-01-15 06:09:13+00:00   \n",
      "97982         1 2015-01-15 06:04:36+00:00 2015-01-15 06:43:36+00:00   \n",
      "97983         1 2015-01-15 06:04:36+00:00 2015-01-15 06:17:32+00:00   \n",
      "97984         1 2015-01-15 06:04:37+00:00 2015-01-15 06:09:38+00:00   \n",
      "97985         1 2015-01-15 06:04:38+00:00 2015-01-15 06:09:45+00:00   \n",
      "\n",
      "       passenger_count  trip_distance  pickup_longitude  pickup_latitude  \\\n",
      "0                    1           1.59        -73.993896        40.750111   \n",
      "1                    1           2.38        -73.976425        40.739811   \n",
      "2                    5           2.83        -73.968704        40.754246   \n",
      "3                    5           8.33        -73.863060        40.769581   \n",
      "4                    1           2.37        -73.945541        40.779423   \n",
      "...                ...            ...               ...              ...   \n",
      "97981                1           1.00        -73.973167        40.744244   \n",
      "97982                1          16.70        -73.965134        40.759991   \n",
      "97983                1           4.50        -74.015182        40.715755   \n",
      "97984                1           0.80        -73.971794        40.754051   \n",
      "97985                1           1.30        -73.991997        40.750149   \n",
      "\n",
      "       dropoff_longitude  dropoff_latitude  fare_amount  tip_amount  \\\n",
      "0             -73.974785         40.750618         12.0        3.25   \n",
      "1             -73.983978         40.757889         16.5        4.38   \n",
      "2             -73.955124         40.786858         12.5        0.00   \n",
      "3             -73.952713         40.785782         26.0        8.08   \n",
      "4             -73.980850         40.786083         11.5        0.00   \n",
      "...                  ...               ...          ...         ...   \n",
      "97981         -73.975433         40.752487          5.5        1.26   \n",
      "97982         -73.782372         40.644108         52.0       13.20   \n",
      "97983         -73.981285         40.765930         15.5        1.00   \n",
      "97984         -73.982391         40.759842          5.5        1.00   \n",
      "97985         -73.978615         40.762085          6.0        0.00   \n",
      "\n",
      "       total_amount  mot  \n",
      "0             17.05   18  \n",
      "1             22.68   26  \n",
      "2             14.30   15  \n",
      "3             41.21   23  \n",
      "4             13.30   15  \n",
      "...             ...  ...  \n",
      "97981          7.56    5  \n",
      "97982         66.00   39  \n",
      "97983         17.30   13  \n",
      "97984          7.30    5  \n",
      "97985          6.80    5  \n",
      "\n",
      "[97986 rows x 13 columns]\n"
     ]
    }
   ],
   "metadata": {}
  },
  {
   "cell_type": "code",
   "execution_count": 53,
   "source": [
    "def count_rows(rows):\r\n",
    "    return len(rows)\r\n",
    "grp = df.groupby([\"trip_distance\"]).apply(count_rows)\r\n",
    "plt.hist(grp)"
   ],
   "outputs": [
    {
     "output_type": "execute_result",
     "data": {
      "text/plain": [
       "(array([2.024e+03, 3.500e+01, 8.000e+00, 3.000e+00, 3.000e+00, 4.000e+00,\n",
       "        2.000e+00, 2.000e+00, 3.000e+00, 5.000e+00]),\n",
       " array([1.0000e+00, 2.3130e+02, 4.6160e+02, 6.9190e+02, 9.2220e+02,\n",
       "        1.1525e+03, 1.3828e+03, 1.6131e+03, 1.8434e+03, 2.0737e+03,\n",
       "        2.3040e+03]),\n",
       " <BarContainer object of 10 artists>)"
      ]
     },
     "metadata": {},
     "execution_count": 53
    },
    {
     "output_type": "display_data",
     "data": {
      "image/png": "[encoded data removed]",
      "text/plain": [
       "<Figure size 432x288 with 1 Axes>"
      ]
     },
     "metadata": {
      "needs_background": "light"
     }
    }
   ],
   "metadata": {}
  },
  {
   "cell_type": "code",
   "execution_count": 54,
   "source": [
    "plt.plot(df[\"total_amount\"])"
   ],
   "outputs": [
    {
     "output_type": "execute_result",
     "data": {
      "text/plain": [
       "[<matplotlib.lines.Line2D at 0x191a330e8b0>]"
      ]
     },
     "metadata": {},
     "execution_count": 54
    },
    {
     "output_type": "display_data",
     "data": {
      "image/png": "[encoded data removed]",
      "text/plain": [
       "<Figure size 432x288 with 1 Axes>"
      ]
     },
     "metadata": {
      "needs_background": "light"
     }
    }
   ],
   "metadata": {}
  },
  {
   "cell_type": "code",
   "execution_count": 55,
   "source": [
    "plt.hist(df[[\"total_amount\", \"passenger_count\"]], range(0, 80))"
   ],
   "outputs": [
    {
     "output_type": "execute_result",
     "data": {
      "text/plain": [
       "(array([[3.6000e+01, 2.0000e+00, 4.0000e+00, 3.6100e+02, 1.5130e+03,\n",
       "         3.9140e+03, 6.8520e+03, 7.5520e+03, 9.0720e+03, 8.6370e+03,\n",
       "         6.4560e+03, 7.0450e+03, 6.3000e+03, 4.3240e+03, 4.5460e+03,\n",
       "         3.8140e+03, 2.4730e+03, 2.8500e+03, 2.3660e+03, 1.5280e+03,\n",
       "         1.7270e+03, 1.5010e+03, 1.0840e+03, 1.2000e+03, 1.0930e+03,\n",
       "         6.8900e+02, 7.3000e+02, 6.3900e+02, 4.6700e+02, 4.9000e+02,\n",
       "         4.8700e+02, 3.2100e+02, 3.6700e+02, 3.6900e+02, 2.6100e+02,\n",
       "         2.9500e+02, 2.8700e+02, 2.6800e+02, 2.6500e+02, 2.7100e+02,\n",
       "         2.7300e+02, 2.6100e+02, 2.7100e+02, 2.2700e+02, 2.1200e+02,\n",
       "         2.4900e+02, 1.9700e+02, 1.5400e+02, 1.9200e+02, 1.6700e+02,\n",
       "         1.3800e+02, 1.3100e+02, 2.4100e+02, 8.0000e+01, 1.0100e+02,\n",
       "         8.4000e+01, 6.8000e+01, 8.6000e+01, 5.0400e+02, 6.1000e+01,\n",
       "         7.9000e+01, 5.1000e+01, 5.8000e+01, 2.0000e+02, 5.9000e+01,\n",
       "         1.0000e+02, 7.6000e+01, 2.7000e+01, 1.0600e+02, 5.0300e+02,\n",
       "         3.8000e+01, 1.9000e+01, 1.3900e+02, 1.7000e+01, 1.4000e+01,\n",
       "         4.8000e+01, 8.0000e+00, 7.0000e+00, 1.2000e+01],\n",
       "        [4.5000e+01, 7.0925e+04, 1.2564e+04, 3.4660e+03, 1.5150e+03,\n",
       "         5.7350e+03, 3.7360e+03, 0.0000e+00, 0.0000e+00, 0.0000e+00,\n",
       "         0.0000e+00, 0.0000e+00, 0.0000e+00, 0.0000e+00, 0.0000e+00,\n",
       "         0.0000e+00, 0.0000e+00, 0.0000e+00, 0.0000e+00, 0.0000e+00,\n",
       "         0.0000e+00, 0.0000e+00, 0.0000e+00, 0.0000e+00, 0.0000e+00,\n",
       "         0.0000e+00, 0.0000e+00, 0.0000e+00, 0.0000e+00, 0.0000e+00,\n",
       "         0.0000e+00, 0.0000e+00, 0.0000e+00, 0.0000e+00, 0.0000e+00,\n",
       "         0.0000e+00, 0.0000e+00, 0.0000e+00, 0.0000e+00, 0.0000e+00,\n",
       "         0.0000e+00, 0.0000e+00, 0.0000e+00, 0.0000e+00, 0.0000e+00,\n",
       "         0.0000e+00, 0.0000e+00, 0.0000e+00, 0.0000e+00, 0.0000e+00,\n",
       "         0.0000e+00, 0.0000e+00, 0.0000e+00, 0.0000e+00, 0.0000e+00,\n",
       "         0.0000e+00, 0.0000e+00, 0.0000e+00, 0.0000e+00, 0.0000e+00,\n",
       "         0.0000e+00, 0.0000e+00, 0.0000e+00, 0.0000e+00, 0.0000e+00,\n",
       "         0.0000e+00, 0.0000e+00, 0.0000e+00, 0.0000e+00, 0.0000e+00,\n",
       "         0.0000e+00, 0.0000e+00, 0.0000e+00, 0.0000e+00, 0.0000e+00,\n",
       "         0.0000e+00, 0.0000e+00, 0.0000e+00, 0.0000e+00]]),\n",
       " array([ 0,  1,  2,  3,  4,  5,  6,  7,  8,  9, 10, 11, 12, 13, 14, 15, 16,\n",
       "        17, 18, 19, 20, 21, 22, 23, 24, 25, 26, 27, 28, 29, 30, 31, 32, 33,\n",
       "        34, 35, 36, 37, 38, 39, 40, 41, 42, 43, 44, 45, 46, 47, 48, 49, 50,\n",
       "        51, 52, 53, 54, 55, 56, 57, 58, 59, 60, 61, 62, 63, 64, 65, 66, 67,\n",
       "        68, 69, 70, 71, 72, 73, 74, 75, 76, 77, 78, 79]),\n",
       " <a list of 2 BarContainer objects>)"
      ]
     },
     "metadata": {},
     "execution_count": 55
    },
    {
     "output_type": "display_data",
     "data": {
      "image/png": "[encoded data removed]",
      "text/plain": [
       "<Figure size 432x288 with 1 Axes>"
      ]
     },
     "metadata": {
      "needs_background": "light"
     }
    }
   ],
   "metadata": {}
  },
  {
   "cell_type": "code",
   "execution_count": 56,
   "source": [
    "fig, ax1 = plt.subplots(figsize=(10, 8))\r\n",
    "ax2 = ax1.twiny()\r\n",
    "\r\n",
    "ax1.hist(df[\"fare_amount\"], rwidth=0.5)\r\n",
    "fig.suptitle(\"Fare & tip amount\")\r\n",
    "ax1.set_xlabel(\"Fare Amount\")\r\n",
    "ax1.set_ylabel(\"Frequency\")\r\n",
    "\r\n",
    "ax2.hist(df[\"tip_amount\"], rwidth=0.5)\r\n",
    "ax2.set_xlabel(\"Tip Amount\")\r\n",
    "ax2.set_ylabel(\"Frequency\")"
   ],
   "outputs": [
    {
     "output_type": "execute_result",
     "data": {
      "text/plain": [
       "Text(0, 0.5, 'Frequency')"
      ]
     },
     "metadata": {},
     "execution_count": 56
    },
    {
     "output_type": "display_data",
     "data": {
      "image/png": "[encoded data removed]",
      "text/plain": [
       "<Figure size 720x576 with 2 Axes>"
      ]
     },
     "metadata": {
      "needs_background": "light"
     }
    }
   ],
   "metadata": {}
  },
  {
   "cell_type": "code",
   "execution_count": 57,
   "source": [
    "fig, (ax1, ax2) = plt.subplots(1,2, figsize=(12, 5))\r\n",
    "ax1.hist(df[\"VendorID\"])\r\n",
    "ax1.set_xlabel(\"VendorID\")\r\n",
    "ax1.set_ylabel(\"Sells\")\r\n",
    "\r\n",
    "ax2.hist(df[\"total_amount\"], range=(0, 110))\r\n",
    "ax2.set_xlabel(\"total_amount\")\r\n",
    "ax2.set_ylabel(\"Sells\")"
   ],
   "outputs": [
    {
     "output_type": "execute_result",
     "data": {
      "text/plain": [
       "Text(0, 0.5, 'Sells')"
      ]
     },
     "metadata": {},
     "execution_count": 57
    },
    {
     "output_type": "display_data",
     "data": {
      "image/png": "[encoded data removed]",
      "text/plain": [
       "<Figure size 864x360 with 2 Axes>"
      ]
     },
     "metadata": {
      "needs_background": "light"
     }
    }
   ],
   "metadata": {}
  },
  {
   "cell_type": "code",
   "execution_count": 58,
   "source": [
    "df.plot.scatter(x=\"mot\", y=\"tip_amount\")\r\n",
    "plt.xlabel(\"mot\")\r\n",
    "plt.ylabel(\"tip_amount\")\r\n",
    "plt.show()"
   ],
   "outputs": [
    {
     "output_type": "display_data",
     "data": {
      "image/png": "[encoded data removed]",
      "text/plain": [
       "<Figure size 432x288 with 1 Axes>"
      ]
     },
     "metadata": {
      "needs_background": "light"
     }
    }
   ],
   "metadata": {}
  }
 ],
 "metadata": {
  "orig_nbformat": 4,
  "language_info": {
   "name": "python",
   "version": "3.8.0",
   "mimetype": "text/x-python",
   "codemirror_mode": {
    "name": "ipython",
    "version": 3
   },
   "pygments_lexer": "ipython3",
   "nbconvert_exporter": "python",
   "file_extension": ".py"
  },
  "kernelspec": {
   "name": "python3",
   "display_name": "Python 3.8.0 64-bit"
  },
  "interpreter": {
   "hash": "8a6378035587bb97055001603ea9d85a2aa377cc6252a50ffca4355a71bc8b90"
  }
 },
 "nbformat": 4,
 "nbformat_minor": 2
}